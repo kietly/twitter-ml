{
 "cells": [
  {
   "cell_type": "markdown",
   "metadata": {},
   "source": [
    "Introduction\n",
    "- Questions\n",
    "- Data Collection\n",
    "- Data cleaning and Feature Engineering\n",
    "EDA - User Level\n",
    "EDA - Tweet Level\n",
    "\n",
    "Introduction \n",
    "\n",
    "Twitter is an Online Social Networking (OSN) platform where users can broadcast messages, images and videos in 280 characters or less. Investigations have uncovered Twitter users who buy followers to give the “appearance of social influence…to bolster political activism, business endeavors or entertainment careers.”[1] In some cases, these types of accounts also engaged in nefarious activity like disinformation, and promoting propaganda. In response to pressure from Government and advertising customers to reduce this type of social media fraud, Twitter started a campaign in July 2018 that removed suspicious follower accounts, about 6% of all users. [1].\n",
    "\n",
    "Question\n",
    "\n",
    "Fake followers are just one type of bot account and some researchers [2] estimate bot accounts comprise between 9 and 15% of Twitter users. This projects seeks to assess the current machine learning based methodologies for bot detection and test whether including NLP features can improve accuracy of identifying what is classified as traditional spam bots.\n",
    "\n",
    "\n",
    "\n",
    "Data Collection\n",
    "We contacted researchers who gave us access to their dataset consisting of verified human twitter accounts, which we will call genuine accounts, and bot accounts. Each dataset of genuine and bot accounts consisted of two files: one file of tweets and a second file listing summary statistics about the users who generated the tweets.\n",
    "\n",
    "\n",
    "[1] July 11 2018 https://www.nytimes.com/2018/07/11/technology/twitter-fake-followers.html?action=click&module=RelatedCoverage&pgtype=Article&region=Footer\n",
    "\n",
    "[2] Online Human-Bot Interactions: Detection, Estimation, and Characterization Onur Varol, Emilio Ferrara, Clayton A. Davis, Filippo Menczer, Alessandro Flammini\n"
   ]
  }
 ],
 "metadata": {
  "kernelspec": {
   "display_name": "Python 3",
   "language": "python",
   "name": "python3"
  },
  "language_info": {
   "codemirror_mode": {
    "name": "ipython",
    "version": 3
   },
   "file_extension": ".py",
   "mimetype": "text/x-python",
   "name": "python",
   "nbconvert_exporter": "python",
   "pygments_lexer": "ipython3",
   "version": "3.6.6"
  }
 },
 "nbformat": 4,
 "nbformat_minor": 2
}
