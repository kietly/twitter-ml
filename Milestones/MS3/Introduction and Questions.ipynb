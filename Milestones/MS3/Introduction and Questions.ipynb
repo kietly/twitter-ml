{
 "cells": [
  {
   "cell_type": "markdown",
   "metadata": {},
   "source": [
    "# Milestone 3 Contents #\n",
    "- Introduction\n",
    "- Questions\n",
    "- Data Collection\n",
    "- Data cleaning and Feature Engineering\n",
    "- EDA - User Level\n",
    "- EDA - Tweet Level\n",
    "\n",
    "### Introduction ###\n",
    "\n",
    "Twitter is an Online Social Networking (OSN) platform where users can broadcast messages, images, and videos in 280 characters or less. Investigations have uncovered Twitter users who buy followers to give the “appearance of social influence…to bolster political activism, business endeavors or entertainment careers.” In some cases, these types of accounts also engaged in a nefarious activity like disinformation and promoting propaganda. Fake followers are just one type of bot account and some researchers [2] estimate bot accounts comprise between 9 and 15% of Twitter users. [1]. In response to pressure from Government and advertising customers to reduce this type of social media fraud, Twitter started a campaign in July 2018 that removed suspicious follower accounts, about 6% of all users. Given the massive number of bots and different nature of the bots (good vs bad bots), hiring a human to identify these bad bots is error-prone and expensive. This is where machine learning come into assisting human to accurately identify bots.\n",
    "\n",
    "### Questions ###\n",
    "\n",
    "    1. Is it possible to use the current machine learning algorithm to predict tweets or account information is a bot with reasonable accuracy?.\n",
    "    \n",
    "    2. Test whether including additional engineering features such as NLP can boost bot prediction accuracy?\n",
    "\n",
    "### References ###\n",
    "\n",
    "[1]. July 11 2018 https://www.nytimes.com/2018/07/11/technology/twitter-fake-followers.html?action=click&module=RelatedCoverage&pgtype=Article&region=Footer\n",
    "\n",
    "[2]. Online Human-Bot Interactions: Detection, Estimation, and Characterization Onur Varol, Emilio Ferrara, Clayton A. Davis, Filippo Menczer, Alessandro Flammini\n",
    "\n",
    "[3]. Feature engineering for bot detection, https://tutorials.datasciencedojo.com/feature-engineering-bot-detection/\n",
    "\n",
    "[4]. Deep Neural Networks for Bot Detection, Sneha Kudugunta, Emilio Ferrara\n",
    "\n",
    "[5]. The paradigm-shift of social spambots: Evidence, theories, and tools for the arms race, Stefano Cresci, Roberto Di Pietro, Marinella Petrocchi, Angelo Spognardi, Maurizio Tesconi\n"
   ]
  },
  {
   "cell_type": "code",
   "execution_count": null,
   "metadata": {},
   "outputs": [],
   "source": []
  }
 ],
 "metadata": {
  "kernelspec": {
   "display_name": "Python 3",
   "language": "python",
   "name": "python3"
  },
  "language_info": {
   "codemirror_mode": {
    "name": "ipython",
    "version": 3
   },
   "file_extension": ".py",
   "mimetype": "text/x-python",
   "name": "python",
   "nbconvert_exporter": "python",
   "pygments_lexer": "ipython3",
   "version": "3.6.5"
  }
 },
 "nbformat": 4,
 "nbformat_minor": 2
}
