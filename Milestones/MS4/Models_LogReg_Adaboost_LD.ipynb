{
 "cells": [
  {
   "cell_type": "markdown",
   "metadata": {},
   "source": [
    "### Logistic Regression and AdaBoost\n",
    "Group 4: Kiet Ly, Mary Monroe, and Shaswati Mukherjee"
   ]
  },
  {
   "cell_type": "markdown",
   "metadata": {},
   "source": [
    "The code below steps through loading the data, splitting it into test/train datasets, tuning parameters and "
   ]
  },
  {
   "cell_type": "markdown",
   "metadata": {},
   "source": [
    "First we import libraries."
   ]
  },
  {
   "cell_type": "code",
   "execution_count": 2,
   "metadata": {},
   "outputs": [],
   "source": [
    "import pandas as pd\n",
    "import numpy as np\n",
    "import sklearn\n",
    "from sklearn.model_selection import cross_val_score, train_test_split\n",
    "from sklearn.utils import resample\n",
    "from sklearn.tree import DecisionTreeClassifier\n",
    "from sklearn.ensemble import RandomForestClassifier\n",
    "from sklearn.ensemble import AdaBoostClassifier\n",
    "from sklearn.metrics import accuracy_score\n",
    "import matplotlib.pyplot as plt\n",
    "from time import time\n",
    "from sklearn.linear_model import LogisticRegression\n",
    "from sklearn.linear_model import LogisticRegressionCV\n",
    "\n",
    "%matplotlib inline\n",
    "\n",
    "import seaborn as sns\n",
    "sns.set(style='whitegrid')\n",
    "pd.set_option('display.width', 1500)\n",
    "pd.set_option('display.max_columns', 100)\n",
    "\n",
    "import warnings\n",
    "warnings.filterwarnings('ignore')"
   ]
  },
  {
   "cell_type": "markdown",
   "metadata": {},
   "source": [
    "Next, we load the data. "
   ]
  },
  {
   "cell_type": "code",
   "execution_count": 3,
   "metadata": {},
   "outputs": [],
   "source": [
    "#import data\n",
    "combine_df = []\n",
    "for file_ in ['/Users/smukherjee5/cs109_final_project/cs109a/data/tweets_nlp_1_2_ld.csv','/Users/smukherjee5/cs109_final_project/cs109a/data/tweets_nlp_2_2_ld.csv','/Users/smukherjee5/cs109_final_project/cs109a/data/tweets_nlp_3_2_ld.csv']:\n",
    "    df = pd.read_csv(file_,index_col=None, header=0,keep_default_na=False)\n",
    "    combine_df.append(df)\n",
    "all_tweets = pd.concat(combine_df, axis = 0, ignore_index = True)  \n",
    "\n",
    "all_tweets[['LD-yule_s_k']] = all_tweets[['LD-yule_s_k']].fillna(0)\n",
    "\n",
    "def convert_float(val):\n",
    "    try:\n",
    "        return float(val)\n",
    "    except ValueError:\n",
    "        return 0\n",
    "\n",
    "all_tweets['LD-yule_s_k']=all_tweets['LD-yule_s_k'].apply(lambda x: convert_float(x))\n",
    "train_base_tweets_df, test_base_tweets_df = train_test_split(all_tweets, test_size=0.33, random_state=42, stratify=all_tweets['user_type'])"
   ]
  },
  {
   "cell_type": "markdown",
   "metadata": {},
   "source": [
    "Next we filter down to only the features we want to keep. Since we are going to compare the accuracy of our models between a base set of features and an extended set with nlp features, we can filter first for the extended set"
   ]
  },
  {
   "cell_type": "code",
   "execution_count": 4,
   "metadata": {},
   "outputs": [],
   "source": [
    "all_tweets_df_nlp2 = all_tweets[['retweet_count', 'favorite_count', 'num_hashtags', 'num_urls', 'num_mentions',\n",
    "                               'user_type', 'sentiment_negative', 'sentiment_neutral', 'sentiment_positive',\n",
    "                               'ratio_pos', 'ratio_neg', 'ratio_neu', 'token_count', 'url_token_ratio', 'ant',\n",
    "                               'disgust', 'fear', 'joy', 'sadness', 'surprise', 'trust','jaccard','LD-uber_index','LD-yule_s_k','LD-mtld','LD-hdd']]"
   ]
  },
  {
   "cell_type": "markdown",
   "metadata": {},
   "source": [
    "Now we standardize columns in our dataset"
   ]
  },
  {
   "cell_type": "code",
   "execution_count": 14,
   "metadata": {},
   "outputs": [],
   "source": [
    "def standardize(df, col_list):\n",
    "    for column in col_list:\n",
    "        min_x = df[column].min()\n",
    "        max_x = df[column].max()\n",
    "        rangex = max_x - min_x\n",
    "        df.loc[:, column]= df.loc[:,column].apply(lambda x: (x-min_x)/rangex)     \n",
    "    return(df)\n",
    "\n",
    "col_list = ['retweet_count', 'favorite_count', 'num_hashtags', 'num_urls', 'num_mentions','url_token_ratio', 'jaccard', 'token_count','LD-uber_index','LD-yule_s_k','LD-mtld','LD-hdd']\n",
    "all_tweets_df_nlp = standardize(all_tweets_df_nlp2, col_list)\n",
    "all_tweets_df = all_tweets_df_nlp[['retweet_count', 'favorite_count', 'num_hashtags', 'num_urls', 'num_mentions','user_type']]"
   ]
  },
  {
   "cell_type": "code",
   "execution_count": 15,
   "metadata": {},
   "outputs": [
    {
     "data": {
      "text/html": [
       "<div>\n",
       "<style scoped>\n",
       "    .dataframe tbody tr th:only-of-type {\n",
       "        vertical-align: middle;\n",
       "    }\n",
       "\n",
       "    .dataframe tbody tr th {\n",
       "        vertical-align: top;\n",
       "    }\n",
       "\n",
       "    .dataframe thead th {\n",
       "        text-align: right;\n",
       "    }\n",
       "</style>\n",
       "<table border=\"1\" class=\"dataframe\">\n",
       "  <thead>\n",
       "    <tr style=\"text-align: right;\">\n",
       "      <th></th>\n",
       "      <th>retweet_count</th>\n",
       "      <th>favorite_count</th>\n",
       "      <th>num_hashtags</th>\n",
       "      <th>num_urls</th>\n",
       "      <th>num_mentions</th>\n",
       "      <th>user_type</th>\n",
       "      <th>sentiment_negative</th>\n",
       "      <th>sentiment_neutral</th>\n",
       "      <th>sentiment_positive</th>\n",
       "      <th>ratio_pos</th>\n",
       "      <th>ratio_neg</th>\n",
       "      <th>ratio_neu</th>\n",
       "      <th>token_count</th>\n",
       "      <th>url_token_ratio</th>\n",
       "      <th>ant</th>\n",
       "      <th>disgust</th>\n",
       "      <th>fear</th>\n",
       "      <th>joy</th>\n",
       "      <th>sadness</th>\n",
       "      <th>surprise</th>\n",
       "      <th>trust</th>\n",
       "      <th>jaccard</th>\n",
       "      <th>LD-uber_index</th>\n",
       "      <th>LD-yule_s_k</th>\n",
       "      <th>LD-mtld</th>\n",
       "      <th>LD-hdd</th>\n",
       "    </tr>\n",
       "  </thead>\n",
       "  <tbody>\n",
       "    <tr>\n",
       "      <th>count</th>\n",
       "      <td>120260.000000</td>\n",
       "      <td>120260.000000</td>\n",
       "      <td>120260.000000</td>\n",
       "      <td>120260.000000</td>\n",
       "      <td>120260.000000</td>\n",
       "      <td>120260.000000</td>\n",
       "      <td>120260.000000</td>\n",
       "      <td>120260.000000</td>\n",
       "      <td>120260.000000</td>\n",
       "      <td>120260.000000</td>\n",
       "      <td>120260.000000</td>\n",
       "      <td>120260.000000</td>\n",
       "      <td>120260.000000</td>\n",
       "      <td>120260.000000</td>\n",
       "      <td>120260.000000</td>\n",
       "      <td>120260.000000</td>\n",
       "      <td>120260.000000</td>\n",
       "      <td>120260.000000</td>\n",
       "      <td>120260.000000</td>\n",
       "      <td>120260.000000</td>\n",
       "      <td>120260.000000</td>\n",
       "      <td>120260.000000</td>\n",
       "      <td>120260.000000</td>\n",
       "      <td>120260.000000</td>\n",
       "      <td>120260.000000</td>\n",
       "      <td>120260.000000</td>\n",
       "    </tr>\n",
       "    <tr>\n",
       "      <th>mean</th>\n",
       "      <td>0.000096</td>\n",
       "      <td>0.002141</td>\n",
       "      <td>0.007242</td>\n",
       "      <td>0.122886</td>\n",
       "      <td>0.027090</td>\n",
       "      <td>0.409729</td>\n",
       "      <td>0.109953</td>\n",
       "      <td>0.483719</td>\n",
       "      <td>0.406328</td>\n",
       "      <td>0.406328</td>\n",
       "      <td>0.109953</td>\n",
       "      <td>0.483719</td>\n",
       "      <td>0.518684</td>\n",
       "      <td>0.011865</td>\n",
       "      <td>0.195784</td>\n",
       "      <td>0.061866</td>\n",
       "      <td>0.108324</td>\n",
       "      <td>0.161217</td>\n",
       "      <td>0.097846</td>\n",
       "      <td>0.101713</td>\n",
       "      <td>0.199410</td>\n",
       "      <td>0.020638</td>\n",
       "      <td>0.050391</td>\n",
       "      <td>0.012736</td>\n",
       "      <td>0.089333</td>\n",
       "      <td>0.499981</td>\n",
       "    </tr>\n",
       "    <tr>\n",
       "      <th>std</th>\n",
       "      <td>0.005292</td>\n",
       "      <td>0.013521</td>\n",
       "      <td>0.022699</td>\n",
       "      <td>0.129295</td>\n",
       "      <td>0.051426</td>\n",
       "      <td>0.491786</td>\n",
       "      <td>0.312833</td>\n",
       "      <td>0.499737</td>\n",
       "      <td>0.491149</td>\n",
       "      <td>0.142894</td>\n",
       "      <td>0.060860</td>\n",
       "      <td>0.148259</td>\n",
       "      <td>0.240949</td>\n",
       "      <td>0.015402</td>\n",
       "      <td>0.396805</td>\n",
       "      <td>0.240913</td>\n",
       "      <td>0.310790</td>\n",
       "      <td>0.367733</td>\n",
       "      <td>0.297108</td>\n",
       "      <td>0.302272</td>\n",
       "      <td>0.399558</td>\n",
       "      <td>0.045951</td>\n",
       "      <td>0.021401</td>\n",
       "      <td>0.037460</td>\n",
       "      <td>0.084888</td>\n",
       "      <td>0.004007</td>\n",
       "    </tr>\n",
       "    <tr>\n",
       "      <th>min</th>\n",
       "      <td>0.000000</td>\n",
       "      <td>0.000000</td>\n",
       "      <td>0.000000</td>\n",
       "      <td>0.000000</td>\n",
       "      <td>0.000000</td>\n",
       "      <td>0.000000</td>\n",
       "      <td>0.000000</td>\n",
       "      <td>0.000000</td>\n",
       "      <td>0.000000</td>\n",
       "      <td>0.000000</td>\n",
       "      <td>0.000000</td>\n",
       "      <td>0.000000</td>\n",
       "      <td>0.000000</td>\n",
       "      <td>0.000000</td>\n",
       "      <td>0.000000</td>\n",
       "      <td>0.000000</td>\n",
       "      <td>0.000000</td>\n",
       "      <td>0.000000</td>\n",
       "      <td>0.000000</td>\n",
       "      <td>0.000000</td>\n",
       "      <td>0.000000</td>\n",
       "      <td>0.000000</td>\n",
       "      <td>0.000000</td>\n",
       "      <td>0.000000</td>\n",
       "      <td>0.000000</td>\n",
       "      <td>0.000000</td>\n",
       "    </tr>\n",
       "    <tr>\n",
       "      <th>25%</th>\n",
       "      <td>0.000000</td>\n",
       "      <td>0.000000</td>\n",
       "      <td>0.000000</td>\n",
       "      <td>0.000000</td>\n",
       "      <td>0.000000</td>\n",
       "      <td>0.000000</td>\n",
       "      <td>0.000000</td>\n",
       "      <td>0.000000</td>\n",
       "      <td>0.000000</td>\n",
       "      <td>0.325976</td>\n",
       "      <td>0.079268</td>\n",
       "      <td>0.375185</td>\n",
       "      <td>0.333333</td>\n",
       "      <td>0.000000</td>\n",
       "      <td>0.000000</td>\n",
       "      <td>0.000000</td>\n",
       "      <td>0.000000</td>\n",
       "      <td>0.000000</td>\n",
       "      <td>0.000000</td>\n",
       "      <td>0.000000</td>\n",
       "      <td>0.000000</td>\n",
       "      <td>0.000000</td>\n",
       "      <td>0.035968</td>\n",
       "      <td>0.000000</td>\n",
       "      <td>0.035664</td>\n",
       "      <td>0.500000</td>\n",
       "    </tr>\n",
       "    <tr>\n",
       "      <th>50%</th>\n",
       "      <td>0.000000</td>\n",
       "      <td>0.000000</td>\n",
       "      <td>0.000000</td>\n",
       "      <td>0.000000</td>\n",
       "      <td>0.000000</td>\n",
       "      <td>0.000000</td>\n",
       "      <td>0.000000</td>\n",
       "      <td>0.000000</td>\n",
       "      <td>0.000000</td>\n",
       "      <td>0.387755</td>\n",
       "      <td>0.105263</td>\n",
       "      <td>0.486622</td>\n",
       "      <td>0.503145</td>\n",
       "      <td>0.000000</td>\n",
       "      <td>0.000000</td>\n",
       "      <td>0.000000</td>\n",
       "      <td>0.000000</td>\n",
       "      <td>0.000000</td>\n",
       "      <td>0.000000</td>\n",
       "      <td>0.000000</td>\n",
       "      <td>0.000000</td>\n",
       "      <td>0.000000</td>\n",
       "      <td>0.051086</td>\n",
       "      <td>0.005193</td>\n",
       "      <td>0.071872</td>\n",
       "      <td>0.500000</td>\n",
       "    </tr>\n",
       "    <tr>\n",
       "      <th>75%</th>\n",
       "      <td>0.000000</td>\n",
       "      <td>0.000000</td>\n",
       "      <td>0.000000</td>\n",
       "      <td>0.250000</td>\n",
       "      <td>0.058824</td>\n",
       "      <td>1.000000</td>\n",
       "      <td>0.000000</td>\n",
       "      <td>1.000000</td>\n",
       "      <td>1.000000</td>\n",
       "      <td>0.465347</td>\n",
       "      <td>0.149588</td>\n",
       "      <td>0.557003</td>\n",
       "      <td>0.735849</td>\n",
       "      <td>0.020833</td>\n",
       "      <td>0.000000</td>\n",
       "      <td>0.000000</td>\n",
       "      <td>0.000000</td>\n",
       "      <td>0.000000</td>\n",
       "      <td>0.000000</td>\n",
       "      <td>0.000000</td>\n",
       "      <td>0.000000</td>\n",
       "      <td>0.000000</td>\n",
       "      <td>0.066640</td>\n",
       "      <td>0.014137</td>\n",
       "      <td>0.120508</td>\n",
       "      <td>0.500000</td>\n",
       "    </tr>\n",
       "    <tr>\n",
       "      <th>max</th>\n",
       "      <td>1.000000</td>\n",
       "      <td>1.000000</td>\n",
       "      <td>1.000000</td>\n",
       "      <td>1.000000</td>\n",
       "      <td>1.000000</td>\n",
       "      <td>1.000000</td>\n",
       "      <td>1.000000</td>\n",
       "      <td>1.000000</td>\n",
       "      <td>1.000000</td>\n",
       "      <td>1.000000</td>\n",
       "      <td>1.000000</td>\n",
       "      <td>1.000000</td>\n",
       "      <td>1.000000</td>\n",
       "      <td>1.000000</td>\n",
       "      <td>1.000000</td>\n",
       "      <td>1.000000</td>\n",
       "      <td>1.000000</td>\n",
       "      <td>1.000000</td>\n",
       "      <td>1.000000</td>\n",
       "      <td>1.000000</td>\n",
       "      <td>1.000000</td>\n",
       "      <td>1.000000</td>\n",
       "      <td>1.000000</td>\n",
       "      <td>1.000000</td>\n",
       "      <td>1.000000</td>\n",
       "      <td>1.000000</td>\n",
       "    </tr>\n",
       "  </tbody>\n",
       "</table>\n",
       "</div>"
      ],
      "text/plain": [
       "       retweet_count  favorite_count   num_hashtags       num_urls   num_mentions      user_type  sentiment_negative  sentiment_neutral  sentiment_positive      ratio_pos      ratio_neg      ratio_neu    token_count  url_token_ratio            ant        disgust           fear            joy        sadness       surprise          trust        jaccard  LD-uber_index    LD-yule_s_k        LD-mtld         LD-hdd\n",
       "count  120260.000000   120260.000000  120260.000000  120260.000000  120260.000000  120260.000000       120260.000000      120260.000000       120260.000000  120260.000000  120260.000000  120260.000000  120260.000000    120260.000000  120260.000000  120260.000000  120260.000000  120260.000000  120260.000000  120260.000000  120260.000000  120260.000000  120260.000000  120260.000000  120260.000000  120260.000000\n",
       "mean        0.000096        0.002141       0.007242       0.122886       0.027090       0.409729            0.109953           0.483719            0.406328       0.406328       0.109953       0.483719       0.518684         0.011865       0.195784       0.061866       0.108324       0.161217       0.097846       0.101713       0.199410       0.020638       0.050391       0.012736       0.089333       0.499981\n",
       "std         0.005292        0.013521       0.022699       0.129295       0.051426       0.491786            0.312833           0.499737            0.491149       0.142894       0.060860       0.148259       0.240949         0.015402       0.396805       0.240913       0.310790       0.367733       0.297108       0.302272       0.399558       0.045951       0.021401       0.037460       0.084888       0.004007\n",
       "min         0.000000        0.000000       0.000000       0.000000       0.000000       0.000000            0.000000           0.000000            0.000000       0.000000       0.000000       0.000000       0.000000         0.000000       0.000000       0.000000       0.000000       0.000000       0.000000       0.000000       0.000000       0.000000       0.000000       0.000000       0.000000       0.000000\n",
       "25%         0.000000        0.000000       0.000000       0.000000       0.000000       0.000000            0.000000           0.000000            0.000000       0.325976       0.079268       0.375185       0.333333         0.000000       0.000000       0.000000       0.000000       0.000000       0.000000       0.000000       0.000000       0.000000       0.035968       0.000000       0.035664       0.500000\n",
       "50%         0.000000        0.000000       0.000000       0.000000       0.000000       0.000000            0.000000           0.000000            0.000000       0.387755       0.105263       0.486622       0.503145         0.000000       0.000000       0.000000       0.000000       0.000000       0.000000       0.000000       0.000000       0.000000       0.051086       0.005193       0.071872       0.500000\n",
       "75%         0.000000        0.000000       0.000000       0.250000       0.058824       1.000000            0.000000           1.000000            1.000000       0.465347       0.149588       0.557003       0.735849         0.020833       0.000000       0.000000       0.000000       0.000000       0.000000       0.000000       0.000000       0.000000       0.066640       0.014137       0.120508       0.500000\n",
       "max         1.000000        1.000000       1.000000       1.000000       1.000000       1.000000            1.000000           1.000000            1.000000       1.000000       1.000000       1.000000       1.000000         1.000000       1.000000       1.000000       1.000000       1.000000       1.000000       1.000000       1.000000       1.000000       1.000000       1.000000       1.000000       1.000000"
      ]
     },
     "execution_count": 15,
     "metadata": {},
     "output_type": "execute_result"
    }
   ],
   "source": [
    "all_tweets_df_nlp.describe()"
   ]
  },
  {
   "cell_type": "markdown",
   "metadata": {},
   "source": [
    "Split our data into train/test for the base and extended feature dataset."
   ]
  },
  {
   "cell_type": "code",
   "execution_count": 16,
   "metadata": {},
   "outputs": [],
   "source": [
    "def train_test_split_nlp(basedf, nlpdf):\n",
    "    splits = {}\n",
    "    i=0\n",
    "    for df in [basedf, nlpdf]:\n",
    "        train_df, test_df = train_test_split(df, test_size=0.33, random_state=42, stratify=df['user_type'])\n",
    "        ytrain_df = train_df['user_type']\n",
    "        xtrain_df = train_df.drop('user_type', axis = 1)\n",
    "        ytest_df = test_df['user_type']\n",
    "        xtest_df = test_df.drop('user_type', axis = 1)\n",
    "        if i == 0:\n",
    "            splits['base'] = (xtrain_df, ytrain_df, xtest_df, ytest_df)\n",
    "            i+=1\n",
    "        else:\n",
    "            splits['nlp'] = (xtrain_df, ytrain_df, xtest_df, ytest_df)\n",
    "    return splits\n",
    "\n",
    "\n",
    "splits = train_test_split_nlp(all_tweets_df, all_tweets_df_nlp)\n",
    "\n",
    "xtrain_base, ytrain_base, xtest_base, ytest_base = splits['base'][0], splits['base'][1], splits['base'][2],splits['base'][3]\n",
    "xtrain_nlp, ytrain_nlp, xtest_nlp, ytest_nlp = splits['nlp'][0], splits['nlp'][1], splits['nlp'][2], splits['nlp'][3] \n"
   ]
  },
  {
   "cell_type": "markdown",
   "metadata": {},
   "source": [
    "Next we compared accuracy of a Logistic Regression Classifier (LR) when using the base vs extended features. The accuracy of the LR improved by 6% when NLP features were used in addition to the base features. LR with base features achieved a test accuracy of 74% while the LR with NLP features scored 82%."
   ]
  },
  {
   "cell_type": "code",
   "execution_count": 17,
   "metadata": {},
   "outputs": [
    {
     "name": "stdout",
     "output_type": "stream",
     "text": [
      "Log Regression Model Accuracy with Base Features (Train) is  0.7666244694318266\n",
      "Log Regression Model Accuracy with Base Features (Test) is  0.7642997530615331\n"
     ]
    }
   ],
   "source": [
    "model_log_cv_base = LogisticRegressionCV(cv = 5).fit(xtrain_base, ytrain_base)\n",
    "\n",
    "train_score_logcv_base = model_log_cv_base.score(xtrain_base, ytrain_base)\n",
    "test_score_logcv_base = model_log_cv_base.score(xtest_base, ytest_base)\n",
    "print(\"Log Regression Model Accuracy with Base Features (Train) is \",train_score_logcv_base)\n",
    "print(\"Log Regression Model Accuracy with Base Features (Test) is \",test_score_logcv_base)"
   ]
  },
  {
   "cell_type": "code",
   "execution_count": 19,
   "metadata": {},
   "outputs": [
    {
     "name": "stdout",
     "output_type": "stream",
     "text": [
      "Log Regression Model Accuracy with NLP (Train) is  0.8267182962245886\n",
      "Log Regression Model Accuracy with NLP (Test) is  0.8271430731240236\n"
     ]
    }
   ],
   "source": [
    "model_log_cv = LogisticRegressionCV(cv = 5).fit(xtrain_nlp, ytrain_nlp)\n",
    "\n",
    "train_score_logcv_nlp = model_log_cv.score(xtrain_nlp, ytrain_nlp)\n",
    "test_score_logcv_nlp = model_log_cv.score(xtest_nlp, ytest_nlp)\n",
    "print(\"Log Regression Model Accuracy with NLP (Train) is \",train_score_logcv_nlp)\n",
    "print(\"Log Regression Model Accuracy with NLP (Test) is \",test_score_logcv_nlp)"
   ]
  },
  {
   "cell_type": "markdown",
   "metadata": {},
   "source": [
    "## ADABOOST"
   ]
  },
  {
   "cell_type": "markdown",
   "metadata": {},
   "source": [
    "Moving on to AdaBoost, we chose model parameters by performing model tuning. The plot below shows accuracy as a function of max depth and estimators. We found that for 100 estimators and a fast learning rate of 0.2, using a max depth of 2 could achieve the same performance if the max depth was 4. We chose the lower cost features for our AdaBoost model: 0.2 learning rate, 100 estimators, max depth 2."
   ]
  },
  {
   "cell_type": "code",
   "execution_count": 24,
   "metadata": {},
   "outputs": [
    {
     "data": {
      "text/plain": [
       "<matplotlib.legend.Legend at 0x1a0d874f60>"
      ]
     },
     "execution_count": 24,
     "metadata": {},
     "output_type": "execute_result"
    },
    {
     "data": {
      "image/png": "[encoded data removed]",
      "text/plain": [
       "<Figure size 432x288 with 1 Axes>"
      ]
     },
     "metadata": {},
     "output_type": "display_data"
    }
   ],
   "source": [
    "def fitSkAdaBoost(max_depth_list, data_tuple):\n",
    "    #fits an AdaBoost model for each depth in the max_depth_list\n",
    "    #returns a list of staged_score generators for each model\n",
    "    X_train = data_tuple[0]\n",
    "    y_train = data_tuple[1]\n",
    "    X_test = data_tuple[0]\n",
    "    y_test = data_tuple[1]\n",
    "    score_list_train = []\n",
    "    score_list_test = []\n",
    "    #iterate through\n",
    "    for depth in max_depth_list:\n",
    "        skadaboost = AdaBoostClassifier(base_estimator=DecisionTreeClassifier(max_depth=depth),\\\n",
    "                                        n_estimators=100, learning_rate=0.20)\n",
    "        skadaboost.fit(X_train, y_train)\n",
    "        \n",
    "        #hacky way of saving off stages scores.\n",
    "        #if I didn't use this way, the variables would only hold the values temporarily\n",
    "        score_test = skadaboost.staged_score(X_test, y_test)\n",
    "        scores_test=[]\n",
    "        for stagesc in score_test:\n",
    "            scores_test=np.append(scores_test,stagesc)\n",
    "        score_list_test.append(scores_test)\n",
    "        \n",
    "        score_train = skadaboost.staged_score(X_train, y_train)\n",
    "        scores_train=[]\n",
    "        for stagesc in score_train:\n",
    "            scores_train=np.append(scores_train,stagesc)\n",
    "        score_list_train.append(scores_train)\n",
    "        \n",
    "        \n",
    "    return score_list_train, score_list_test\n",
    "\n",
    "\n",
    "ss_train, ss_test = fitSkAdaBoost([1,2,3,4], splits['base'])\n",
    "\n",
    "colors = ['b','g','m','k']\n",
    "plt.figure()\n",
    "for i in range(0,4):\n",
    "    label = 'Depth-'+str(i+1)+' (train)'   \n",
    "    plt.plot(np.arange(0,100),list(ss_train[i]), color=colors[i], label=label)\n",
    "for i in range(0,4):\n",
    "    label = 'Depth-'+str(i+1)+' (test)'   \n",
    "    plt.plot(np.arange(0,100),list(ss_test[i]), color=colors[i], linestyle='dashed',label=label)\n",
    "plt.title('AdaBoost Accuracy Per N-Estimators (Decision Tree, n=800, Learning Rate=0.05)')\n",
    "plt.xlabel('Number of Estimators')\n",
    "plt.ylabel('Accuracy')\n",
    "plt.legend(loc=\"center left\", bbox_to_anchor=(1, 0.5))"
   ]
  },
  {
   "cell_type": "markdown",
   "metadata": {},
   "source": [
    "We saw a major improvement in accuracy of the AdaBoost models when the NLP features were included. Without NLP features, the model only reached an accuracy of 79%. The model achieved an accuracy of 98% when the NLP features were included."
   ]
  },
  {
   "cell_type": "code",
   "execution_count": 25,
   "metadata": {},
   "outputs": [],
   "source": [
    "#modified from lab 9 notes\n",
    "def adaboost_build_and_plot(data_tuple, max_depth, n_estimators, learning_rate, makeplot=False):\n",
    "    X_train = data_tuple[0]\n",
    "    y_train = data_tuple[1]\n",
    "    X_test = data_tuple[0]\n",
    "    y_test = data_tuple[1]\n",
    "   \n",
    "    skadaboost = AdaBoostClassifier(base_estimator=DecisionTreeClassifier(max_depth=max_depth),\n",
    "                              n_estimators=n_estimators, learning_rate=learning_rate)\n",
    "    skadaboost.fit(X_train, y_train)\n",
    "    print('AdaBoost Accuracy (train)', skadaboost.score(X_train, y_train))\n",
    "    print('AdaBoost Accuracy (test)', skadaboost.score(X_test, y_test))\n",
    "\n",
    "    if makeplot == True:\n",
    "        title = 'AdaBoost Accuracy Per N-Estimators (Decision Tree, Depth-' + str(max_depth) + ', Learning Rate=' + \\\n",
    "                str(learning_rate) + ')'\n",
    "        staged_scores_test = skadaboost.staged_score(X_test, y_test)\n",
    "        staged_scores_train = skadaboost.staged_score(X_train, y_train)\n",
    "        plt.figure()\n",
    "        plt.plot(np.arange(0,n_estimators),list(staged_scores_test), label='AdaBoost Test', linestyle='dashed', color='r')\n",
    "        plt.plot(np.arange(0,n_estimators),list(staged_scores_train), label='AdaBoost Train', color='b', alpha = 0.6)\n",
    "        plt.title(title)\n",
    "        plt.xlabel('Number of Estimators')\n",
    "        plt.ylabel('Accuracy')\n",
    "        plt.legend()"
   ]
  },
  {
   "cell_type": "code",
   "execution_count": 26,
   "metadata": {},
   "outputs": [
    {
     "name": "stdout",
     "output_type": "stream",
     "text": [
      "AdaBoost Accuracy (train) 0.7955792191029364\n",
      "AdaBoost Accuracy (test) 0.7955792191029364\n",
      "done in 11.699s.\n"
     ]
    },
    {
     "data": {
      "image/png": "[encoded data removed]",
      "text/plain": [
       "<Figure size 432x288 with 1 Axes>"
      ]
     },
     "metadata": {},
     "output_type": "display_data"
    }
   ],
   "source": [
    "t0 = time()\n",
    "adaboost_build_and_plot(splits['base'], 2, 100, 0.2, makeplot=True)\n",
    "print(\"done in %0.3fs.\" % (time() - t0))"
   ]
  },
  {
   "cell_type": "code",
   "execution_count": 27,
   "metadata": {},
   "outputs": [
    {
     "name": "stdout",
     "output_type": "stream",
     "text": [
      "AdaBoost Accuracy (train) 0.9944026609079852\n",
      "AdaBoost Accuracy (test) 0.9944026609079852\n",
      "done in 21.969s.\n"
     ]
    },
    {
     "data": {
      "image/png": "[encoded data removed]",
      "text/plain": [
       "<Figure size 432x288 with 1 Axes>"
      ]
     },
     "metadata": {},
     "output_type": "display_data"
    }
   ],
   "source": [
    "#adaboost_build_and_plot(data_tuple, max_depth, n_estimators, makeplot=False, iterate=False)\n",
    "t0 = time()\n",
    "adaboost_build_and_plot(splits['nlp'],2,100,0.2, makeplot=True)\n",
    "print(\"done in %0.3fs.\" % (time() - t0))"
   ]
  }
 ],
 "metadata": {
  "kernelspec": {
   "display_name": "Python 3",
   "language": "python",
   "name": "python3"
  },
  "language_info": {
   "codemirror_mode": {
    "name": "ipython",
    "version": 3
   },
   "file_extension": ".py",
   "mimetype": "text/x-python",
   "name": "python",
   "nbconvert_exporter": "python",
   "pygments_lexer": "ipython3",
   "version": "3.6.6"
  }
 },
 "nbformat": 4,
 "nbformat_minor": 2
}
