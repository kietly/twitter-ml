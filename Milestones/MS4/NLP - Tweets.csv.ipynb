{
 "cells": [
  {
   "cell_type": "markdown",
   "metadata": {},
   "source": [
    "## Natural Language Processing\n",
    "\n",
    "Group 4: Kiet Ly, Mary Monroe, and Shaswati Mukherjee"
   ]
  },
  {
   "cell_type": "markdown",
   "metadata": {},
   "source": [
    "### Outline\n",
    "* Summary\n",
    "* Loading Data \n",
    "* Linguistic Features \n",
    "* Emotion Based Features\n",
    "* Sentiment Based Features\n",
    "* Topic Model Based Features\n",
    "* Feature Selection\n"
   ]
  },
  {
   "cell_type": "markdown",
   "metadata": {},
   "source": [
    "### Summary of Analysis and Features\n",
    "\n",
    "This section describes the Natural Language Processing techniques used to create additional features for the Tweets data. In particular, 18 NLP features were generated based on sentiment analysis, emotional analysis and topic modelling techniques. Of those 18, a total of 9 were identified for inclusion in the models:\n",
    "\n",
    "* sentiment_negative\n",
    "* sentiment_neutral\n",
    "* sentiment_positive\n",
    "* token_count\n",
    "* ant\n",
    "* fear\n",
    "* joy\n",
    "* trust\n",
    "* ratio_neg\n",
    "\n",
    "#### Linguistic Features \n",
    "The **lexical diversity** score indicates how many different words are used within a body of text. The lexical diversity consists of the set of unique words in a tweet divided by the total number of tweets. The **token_count** and **url_token_ratio** are numeric fields that count how many tokens are in a tweet and have the ratio for urls to tokens per tweet. These field are used to characterize how long the tweet is and also indicate the composition of the tweet in terms of words vs links to media (other websites, images, music, etc). The idea behind this feature was thinking that bots would be built to promote other media, not original ideas.\n",
    "\n",
    "\n",
    "\n",
    "#### Emotion Based Features\n",
    "The **ant**, **disgust**, **fear**, **joy**, **sadness**, **surprise**, and **trust** features are boolean fields that indicate whether these emotions are  related to a given tweet. These assessments are created by comparing tweet tokens (words) with the EmoLex, the National Research Council (NRC) of Canada's Word-Emotion Association Lexicon. The EmoLex contains a mapping of words to emotions. If words within tweets have associated emotions within EmoLex, this would flag a 1 for the respective emotion feature.\n",
    "\n",
    "\n",
    "#### Sentiment Based Features\n",
    "The **sentiment_neutral**, **sentiment_positive**, and **sentiment_negative** features are boolean fields that indicate the sentiment predicted for a given tweet. These predictions were computed using built-in methods of the textblob module, an nltk wrapper. In particular the sentiment polarity method predicts sentiment based on a Bayesian model trained on a labeled corpus of movie reviews. We also computed the ratios for each sentiment seen across each user's body of tweets. These features were called **ratio_pos**, **ratio_neg** and **ratio_neu**.\n",
    "\n",
    "\n",
    "\n",
    "#### Topic Model Based Features\n",
    "The **jaccard** feature consists of a rough jaccard similarity score that compares a user's top 10 topics with the top 10 topics generated from a sample of bots. The topics were derived using Non-negative Matrix Factorization to highlight the most important topics from the user's corpus of tweets. These were applied as an enrichment to the individual tweet. The **perc_in_bot_topic** feature indicates the ratio of words from an individual tweet that were also found in the top 10 bot topics to the total number of words within the tweet.\n",
    "\n"
   ]
  },
  {
   "cell_type": "markdown",
   "metadata": {},
   "source": [
    "### Loading Data\n",
    "\n",
    "To begin this analysis, we loaded the modules and tweet data. NLP modules and functions used in this section came from langdetect, nltk, textblob and sklearn. "
   ]
  },
  {
   "cell_type": "code",
   "execution_count": 2,
   "metadata": {},
   "outputs": [],
   "source": [
    "import pandas as pd\n",
    "import numpy as np\n",
    "import langdetect\n",
    "#either pip install langdetect or conda install -c conda-forge langdetect\n",
    "from langdetect import detect\n",
    "from pandas.plotting import scatter_matrix\n",
    "import re\n",
    "#conda install -c conda-forge textblob \n",
    "from nltk.corpus import wordnet as wn\n",
    "from nltk.stem.wordnet import WordNetLemmatizer\n",
    "import html\n",
    "from html.parser import HTMLParser\n",
    "import nltk\n",
    "from nltk.corpus import stopwords\n",
    "from nltk.tokenize import word_tokenize \n",
    "import textblob\n",
    "from textblob import TextBlob\n",
    "import string\n",
    "from sklearn.model_selection import train_test_split\n",
    "from sklearn.utils import resample\n",
    "import matplotlib.pyplot as plt\n",
    "from sklearn.decomposition import PCA\n",
    "from sklearn.feature_selection import VarianceThreshold\n",
    "pd.options.mode.chained_assignment = None \n",
    "from sklearn.feature_extraction.text import CountVectorizer, TfidfTransformer;\n",
    "from sklearn.decomposition import NMF;\n",
    "from sklearn.preprocessing import normalize;\n",
    "import pickle;\n",
    "from time import time\n",
    "\n",
    "from sklearn.feature_extraction.text import TfidfVectorizer, CountVectorizer\n",
    "from sklearn.decomposition import NMF, LatentDirichletAllocation"
   ]
  },
  {
   "cell_type": "markdown",
   "metadata": {},
   "source": [
    "Below are functions created to clean text data for NLP. Our analysis focused on English language lexicons and models built on English language data, so in addition to lemmatizing the words, and removing stopwords, punctuation, urls and url encoding, we detected language and filtered out non-english words"
   ]
  },
  {
   "cell_type": "code",
   "execution_count": 3,
   "metadata": {},
   "outputs": [],
   "source": [
    "#Functions\n",
    "class MLStripper(HTMLParser):\n",
    "    #https://docs.python.org/3/library/html.parser.html\n",
    "    #https://stackoverflow.com/questions/11061058/using-htmlparser-in-python-3-2\n",
    "    def __init__(self):\n",
    "        super().__init__()\n",
    "        self.reset()\n",
    "        self.fed = []\n",
    "       \n",
    "    def handle_data(self, d):\n",
    "        self.fed.append(d)\n",
    "    def get_data(self):\n",
    "        return ''.join(self.fed)\n",
    "\n",
    "def strip_tags(html):\n",
    "    s = MLStripper()\n",
    "    s.feed(html)\n",
    "    return s.get_data()\n",
    "\n",
    "def remove_swords(text):\n",
    "    #https://www.geeksforgeeks.org/removing-stop-words-nltk-python/\n",
    "    stop_words = set(stopwords.words('english'))   \n",
    "    word_tokens = word_tokenize(text)  \n",
    "    filtered_sentence = [w for w in word_tokens if not w in stop_words]   \n",
    "    return filtered_sentence\n",
    "\n",
    "def get_tweet_sentiment(tweet): \n",
    "        ''' \n",
    "        https://medium.freecodecamp.org/basic-data-analysis-on-twitter-with-python-251c2a85062e \n",
    "        Utility function to classify sentiment of passed tweet \n",
    "        using textblob's sentiment method \n",
    "        '''\n",
    "        # create TextBlob object of passed tweet text \n",
    "        analysis = TextBlob(tweet) \n",
    "        # set sentiment \n",
    "        if analysis.sentiment.polarity > 0: \n",
    "            return 'positive'\n",
    "        elif analysis.sentiment.polarity == 0: \n",
    "            return 'neutral'\n",
    "        else: \n",
    "            return 'negative'\n",
    "\n",
    "def lemmatize(text):\n",
    "    #https://towardsdatascience.com/topic-modelling-in-python-with-nltk-and-gensim-4ef03213cd21\n",
    "    text_out = []\n",
    "    def get_lemma(word):\n",
    "        lemma = wn.morphy(word)\n",
    "        if lemma is None:\n",
    "            return word\n",
    "        else:\n",
    "            return lemma\n",
    "    \n",
    "    for word in text:\n",
    "        lword = get_lemma(word)\n",
    "        text_out.append(lword)\n",
    "    return text_out\n",
    "\n",
    "def strip_unprintable(text):\n",
    "    #https://stackoverflow.com/questions/8689795/how-can-i-remove-non-ascii-characters-but-leave-periods-and-spaces-using-python\n",
    "    printable = set(string.printable)\n",
    "    printable = filter(lambda x: x in printable, text)\n",
    "\n",
    "\n",
    "def nlp_clean(text):\n",
    "    #get rid of #retweets RT @[\\S]+  mentions @[\\S]+ urls http:\\S+|https\\S+|www.\\S+ punctuation\n",
    "    text_out = []\n",
    "    result = ''\n",
    "    try:\n",
    "        result = re.sub(r\"RT @[\\S]+: |@[\\S]+|http:\\S+|https\\S+|www.\\S+|[^\\w\\s]\", \"\", text) \n",
    "        \n",
    "         #to lower case\n",
    "        result = result.lower()\n",
    "        \n",
    "        #get rid of url encoding\n",
    "        #https://stackoverflow.com/questions/11061058/using-htmlparser-in-python-3-2\n",
    "        result = strip_tags(result)\n",
    "\n",
    "        #get rid of special ascii characters\n",
    "        result = ''.join([c for c in result if ord(c) < 128])\n",
    "\n",
    "       \n",
    "        #get rid of stopwords\n",
    "        result = remove_swords(result)\n",
    "\n",
    "        #get word roots\n",
    "        result = lemmatize(result)\n",
    "        \n",
    "    except:\n",
    "        text_out = ['Failed']\n",
    "    \n",
    "    return result\n",
    "\n",
    "def nlp_clean_flag(text, returnlist = False):\n",
    "    #get rid of #retweets RT @[\\S]+  mentions @[\\S]+ urls http:\\S+|https\\S+|www.\\S+ punctuation\n",
    "    text_out = []\n",
    "    result = ''\n",
    "    try:\n",
    "        result = re.sub(r\"RT @[\\S]+: |@[\\S]+|http:\\S+|https\\S+|www.\\S+|[^\\w\\s]\", \"\", text) \n",
    "        \n",
    "         #to lower case\n",
    "        result = result.lower()\n",
    "        \n",
    "        #result = strip_unprintable(result)\n",
    "        \n",
    "        #get rid of url encoding\n",
    "        #https://stackoverflow.com/questions/11061058/using-htmlparser-in-python-3-2\n",
    "        result = strip_tags(result)\n",
    "\n",
    "        #get rid of special ascii characters\n",
    "        result = ''.join([c for c in result if ord(c) < 128])\n",
    "\n",
    "       \n",
    "        #get rid of stopwords\n",
    "        result = remove_swords(result)\n",
    "        \n",
    "        #get word roots\n",
    "        result = lemmatize(result)\n",
    "        \n",
    "        if returnlist == False:\n",
    "            result = \" \".join(str(x) for x in result)\n",
    "               \n",
    "    except:\n",
    "        text_out = ['Failed']\n",
    "    \n",
    "    return result\n",
    "\n",
    "def df_detect_en(df, text_col):\n",
    "    \n",
    "    '''Input is a dataframe (df) and name of the column (text_col) to check for english \n",
    "    This function creates a new Boolean column called \"en_flag\"\n",
    "    \"en_flag\" is True if the text_col column is detected as \"en\" \n",
    "    Dataframe with the new column is returned.\n",
    "    '''\n",
    "    \n",
    "    def detect_en(x):\n",
    "        #assumes you have langdetect imported\n",
    "        flag = False\n",
    "        if len(x) > 0:\n",
    "            try:\n",
    "                lang = detect(x)\n",
    "                if lang=='en':\n",
    "                    flag = 1\n",
    "            except:\n",
    "                flag = 0\n",
    "                \n",
    "                \n",
    "            return flag\n",
    "    \n",
    "    df[text_col] = df[text_col].astype(str)\n",
    "    df['en_flag'] = df.loc[:,text_col].apply(lambda x: detect_en(x))\n",
    "    return(df)\n",
    "\n",
    "\n",
    "def clean_tweets(df, text_col):\n",
    "    #creates two new features\n",
    "    #word_bag is our bag of words that has been cleaned\n",
    "    #sentiment is the sentiment for the individual tweet\n",
    "    df['word_bag'] = df[text_col].apply(lambda x: nlp_clean(x))\n",
    "    \n",
    "    return(df) \n"
   ]
  },
  {
   "cell_type": "markdown",
   "metadata": {},
   "source": [
    "Here we read in all the data and clean the text for NLP."
   ]
  },
  {
   "cell_type": "code",
   "execution_count": 4,
   "metadata": {},
   "outputs": [],
   "source": [
    "#read in all the tweets from geniuine accounts\n",
    "human_tweets = pd.read_csv('~/Documents/GitHub/cs109a/data/human_tweets_100.csv',index_col=None, header=0,keep_default_na=False)\n",
    "bot_tweets = pd.read_csv('~/Documents/GitHub/cs109a/data/bot_tweets_100.csv', index_col=None, header=0,keep_default_na=False)\n",
    "sbot_tweets = pd.read_csv('~/Documents/GitHub/cs109a/data/social_tweets_100.csv', index_col=None, header=0,keep_default_na=False)\n",
    "human_tweets = human_tweets.drop([\"Unnamed: 0\", \"Unnamed: 0.1\"], axis=1)\n",
    "bot_tweets = bot_tweets.drop([\"Unnamed: 0\", \"Unnamed: 0.1\"], axis=1)\n",
    "sbot_tweets = sbot_tweets.drop([\"Unnamed: 0\", \"Unnamed: 0.1\"], axis=1)\n",
    "#We will combine these two data sets then get a sample to analyze\n",
    "tweets_some = pd.concat([human_tweets, bot_tweets], sort=False)\n",
    "tweets_all = pd.concat([tweets_some, sbot_tweets], sort=False)\n",
    "tweets_all = tweets_all[pd.notna(tweets_all['text'])]\n",
    "tweets_all['clean_text'] = tweets_all.loc[:,'text'].apply(lambda x: nlp_clean_flag(x, returnlist=False))"
   ]
  },
  {
   "cell_type": "markdown",
   "metadata": {},
   "source": [
    "### Create Linguistic Features\n"
   ]
  },
  {
   "cell_type": "markdown",
   "metadata": {},
   "source": [
    "Next we create the *token_count* and *url_token_ratio* features."
   ]
  },
  {
   "cell_type": "code",
   "execution_count": 58,
   "metadata": {},
   "outputs": [],
   "source": [
    "#compute new features: token count and url to token ratio\n",
    "tweets_all['token_count'] = tweets_all.loc[:,'text'].apply(lambda x: len(x))\n",
    "\n",
    "tweets_all['url_token_ratio'] = tweets_all['num_urls']/tweets_all['token_count']"
   ]
  },
  {
   "cell_type": "markdown",
   "metadata": {},
   "source": [
    "### Emotional Analysis Features"
   ]
  },
  {
   "cell_type": "markdown",
   "metadata": {},
   "source": [
    "To label tweets with emotion, we compared the tweet text with emoLex, the lexicon built by the NRC that maps words to their emotion. Here we build the dataframe."
   ]
  },
  {
   "cell_type": "code",
   "execution_count": 17,
   "metadata": {},
   "outputs": [
    {
     "name": "stdout",
     "output_type": "stream",
     "text": [
      "<class 'pandas.core.frame.DataFrame'>\n",
      "RangeIndex: 141820 entries, 0 to 141819\n",
      "Data columns (total 3 columns):\n",
      "word       141810 non-null object\n",
      "emotion    141820 non-null object\n",
      "flag       141820 non-null int64\n",
      "dtypes: int64(1), object(2)\n",
      "memory usage: 3.2+ MB\n"
     ]
    }
   ],
   "source": [
    "#make our dictionary for emotional \n",
    "#http://sentiment.nrc.ca/lexicons-for-research/\n",
    "\n",
    "emo = pd.read_csv('~/Documents/GitHub/cs109a_work/eda/NRC-Emotion-Lexicon/NRC-Emotion-Lexicon-Wordlevel-v0.92.txt',\\\n",
    "                  names = ['word','emotion','flag'], sep=\"\\t\")\n",
    "emo.info()"
   ]
  },
  {
   "cell_type": "code",
   "execution_count": 18,
   "metadata": {},
   "outputs": [
    {
     "name": "stdout",
     "output_type": "stream",
     "text": [
      "<class 'pandas.core.frame.DataFrame'>\n",
      "Int64Index: 13901 entries, 19 to 141755\n",
      "Data columns (total 3 columns):\n",
      "word       13901 non-null object\n",
      "emotion    13901 non-null object\n",
      "flag       13901 non-null int64\n",
      "dtypes: int64(1), object(2)\n",
      "memory usage: 434.4+ KB\n"
     ]
    }
   ],
   "source": [
    "emo = emo.loc[emo['flag']==1]\n",
    "emo.info()"
   ]
  },
  {
   "cell_type": "code",
   "execution_count": 19,
   "metadata": {},
   "outputs": [],
   "source": [
    "#break up words into their emotions\n",
    "#anticipation','disgust','fear','joy','negative','positive','sadness','surprise','trust'\n",
    "\n",
    "ant = list(emo.loc[emo['emotion']=='anticipation'].word)\n",
    "disgust = list(emo.loc[emo['emotion']=='disgust'].word)\n",
    "fear = list(emo.loc[emo['emotion']=='fear'].word)\n",
    "joy = list(emo.loc[emo['emotion']=='joy'].word)\n",
    "sadness = list(emo.loc[emo['emotion']=='sadness'].word)\n",
    "surprise = list(emo.loc[emo['emotion']=='surprise'].word)\n",
    "trust = list(emo.loc[emo['emotion']=='trust'].word)\n",
    "feelings = {'ant':ant, 'disgust':disgust , 'fear':fear, 'joy':joy, 'sadness':sadness, 'surprise':surprise, 'trust':trust}"
   ]
  },
  {
   "cell_type": "code",
   "execution_count": 20,
   "metadata": {},
   "outputs": [],
   "source": [
    "def checkemo(x, emotions_list):\n",
    "    words = re.sub(\"[^\\w]\", \" \",  x).split()\n",
    "    flag = 0\n",
    "    matches = set(words) & set(emotions_list)\n",
    "    if len(matches) > 0:\n",
    "        flag = 1\n",
    "    return(flag)"
   ]
  },
  {
   "cell_type": "code",
   "execution_count": 21,
   "metadata": {},
   "outputs": [],
   "source": [
    "#Emotional Analysis --> creates anticipation, disgust, fear, joy, sadness, surprise, trust\n",
    "for key,values in feelings.items():\n",
    "    tweets_all[key] = tweets_all.loc[:,'text'].apply(lambda x: checkemo(x,values))"
   ]
  },
  {
   "cell_type": "markdown",
   "metadata": {},
   "source": [
    "### Sentiment Analysis"
   ]
  },
  {
   "cell_type": "code",
   "execution_count": 22,
   "metadata": {},
   "outputs": [],
   "source": [
    "#get sentiment\n",
    "def sentiment(text):\n",
    "    sentiment = get_tweet_sentiment(text)\n",
    "    return sentiment \n",
    "\n",
    "def compute_sentiment_percentages(df, text_col, user_id_col):\n",
    "    #measure sentiment, then create dummy variables    \n",
    "    df['sentiment'] = df[text_col].astype(str).apply(lambda x: sentiment(x))\n",
    "    df = pd.get_dummies(df, columns=['sentiment'])\n",
    "    return df"
   ]
  },
  {
   "cell_type": "code",
   "execution_count": 23,
   "metadata": {},
   "outputs": [],
   "source": [
    "#Sentiment Analysis --> creates positive/negative/neutral sentiment\n",
    "tweets_all = compute_sentiment_percentages(tweets_all, 'text','user_id')"
   ]
  },
  {
   "cell_type": "code",
   "execution_count": 24,
   "metadata": {},
   "outputs": [],
   "source": [
    "tweets_grouped2 = tweets_all.groupby('user_id')['sentiment_negative','sentiment_positive','sentiment_neutral'].sum()\n",
    "tweets_grouped2 = tweets_grouped2.reset_index()\n",
    "tweets_grouped2['sent_sum'] = tweets_grouped2['sentiment_negative'] + tweets_grouped2['sentiment_positive'] + tweets_grouped2['sentiment_neutral']\n",
    "tweets_grouped2['ratio_pos'] = tweets_grouped2['sentiment_positive']/tweets_grouped2['sent_sum']\n",
    "tweets_grouped2['ratio_neg'] = tweets_grouped2['sentiment_negative']/tweets_grouped2['sent_sum']\n",
    "tweets_grouped2['ratio_neu'] = tweets_grouped2['sentiment_neutral']/tweets_grouped2['sent_sum']\n",
    "tweets_grouped2 = tweets_grouped2.drop(['sentiment_negative','sentiment_positive','sentiment_neutral', 'sent_sum'], axis=1)\n",
    "tweets_all = pd.merge(tweets_all, tweets_grouped2, on='user_id')"
   ]
  },
  {
   "cell_type": "markdown",
   "metadata": {},
   "source": [
    "### Topic Modeling"
   ]
  },
  {
   "cell_type": "markdown",
   "metadata": {},
   "source": [
    "To compute our two topic-model based features, we first compute the top 10 topics from a sample of bots. We used Non-negative Matrix Factorization (NMF) as an unsupervised way to identify the major topics from which a body of a users tweets is composed. The function below uses tf-idf to further filter stop words, common words (seen in 95% or more of the tweets), or highly unique (seen in only 1 text)."
   ]
  },
  {
   "cell_type": "code",
   "execution_count": 25,
   "metadata": {},
   "outputs": [],
   "source": [
    "def get10topics(x):\n",
    "# Function adapted from sklearn tutorial code\n",
    "# originally written by\n",
    "# Author: Olivier Grisel <olivier.grisel@ensta.org>\n",
    "#         Lars Buitinck\n",
    "#         Chyi-Kwei Yau <chyikwei.yau@gmail.com>\n",
    "# License: BSD 3 clause\n",
    "    n_samples = len(x)\n",
    "    n_features = 1000\n",
    "    n_components = 10\n",
    "    n_top_words = 20\n",
    "    top_word_list = []\n",
    "    \n",
    "       \n",
    "    def get_top_words(model, feature_names, n_top_words):\n",
    "        top_word_list = []\n",
    "        \n",
    "        for topic_idx, topic in enumerate(model.components_):\n",
    "            message = ''\n",
    "            message += \" \".join([feature_names[i] for i in topic.argsort()[:-n_top_words - 1:-1]])\n",
    "            \n",
    "            top_word_list.append(message)\n",
    "        \n",
    "        return top_word_list\n",
    "\n",
    "# Load the tweets and vectorize. Use Term Frequency-Inverse Document Frequency\n",
    "# To further filter out common words. This syntax removes english stop words\n",
    "# and words occurring in only one document or at least 95% of the documents.\n",
    "   \n",
    "    error_cnt=0\n",
    "    try:\n",
    "        data_samples = x\n",
    "        \n",
    "        tfidf_vectorizer = TfidfVectorizer(max_df=0.95, min_df=2,\n",
    "                                           max_features=n_features,\n",
    "                                           stop_words='english')\n",
    "        tfidf = tfidf_vectorizer.fit_transform(data_samples)\n",
    "\n",
    "\n",
    "        # Fit the NMF model\n",
    "      \n",
    "        nmf = NMF(n_components=n_components, random_state=1, alpha=.1, l1_ratio=.5).fit(tfidf)\n",
    "    \n",
    "        #print(\"\\nTopics in NMF model (Frobenius norm):\")\n",
    "        tfidf_feature_names = tfidf_vectorizer.get_feature_names()\n",
    "        \n",
    "        top_word_list=get_top_words(nmf, tfidf_feature_names, n_top_words)\n",
    "    except:\n",
    "        top_word_list = []\n",
    "    \n",
    "    return top_word_list"
   ]
  },
  {
   "cell_type": "markdown",
   "metadata": {},
   "source": [
    "Here, we filter the data for a sample of bot data, topic model each individual bot user, then combine all these topics together to create a final top 10 for all the bots"
   ]
  },
  {
   "cell_type": "code",
   "execution_count": 26,
   "metadata": {
    "scrolled": true
   },
   "outputs": [],
   "source": [
    "tweets_bots = tweets_all.loc[tweets_all['user_type'] == 0]\n",
    "tweets_bots = resample(tweets_bots, n_samples=30000, replace=False)\n",
    "#Only keep english language tweets\n",
    "tweets_bots = df_detect_en(tweets_bots,'text')\n",
    "tweets_bots = tweets_bots.loc[tweets_bots['en_flag']==1]\n",
    "t0 = time()\n",
    "\n",
    "#Compute topics per bot user\n",
    "tweets_bots = tweets_bots.groupby('user_id').agg(lambda x: x.tolist())\n",
    "tweets_bots = tweets_bots.reset_index()\n",
    "tweets_bots['topics'] = tweets_bots.loc[:,'clean_text'].apply(lambda x: get10topics(x))\n",
    "\n",
    "#filter out users with 0 topics\n",
    "tweets_bots['topic_len'] = tweets_bots.loc[:,'topics'].apply(lambda x: len(x))\n",
    "tweets_bots= tweets_bots.loc[tweets_bots['topic_len'] > 0]\n",
    "tweets_bots['dummy'] = 1\n",
    "tweets_bots_grp = tweets_bots.groupby('dummy').agg(lambda x: x.tolist())\n",
    "\n",
    "#Create Top 10 topic models from all the social spambot users\n",
    "tweets_bots_grp = tweets_bots_grp.reset_index()\n",
    "tweets_bots_final = get10topics(list(tweets_bots_grp['clean_text'])[0][0])"
   ]
  },
  {
   "cell_type": "markdown",
   "metadata": {},
   "source": [
    "#### Percent of a tweet's word also found in bot topics"
   ]
  },
  {
   "cell_type": "markdown",
   "metadata": {},
   "source": [
    "Next, we compared each individual tweet against the bot topics. We created a score that gives the ratio for words from the tweet also seen in bot topics divided by the total number of words in the tweet. This value is indicated in the **'perc_in_bot_topics'**."
   ]
  },
  {
   "cell_type": "code",
   "execution_count": 27,
   "metadata": {},
   "outputs": [],
   "source": [
    "def percent_tweet_in_bot_topics(clean_text,bots_topics):\n",
    "    #https://towardsdatascience.com/overview-of-text-similarity-metrics-3397c4601f50\n",
    "    bot_string = ''\n",
    "    for topic in bots_topics:\n",
    "        bot_string = bot_string + topic + \" \"\n",
    "    a = set(str(clean_text).split()) \n",
    "    b = set(bot_string.split())\n",
    "    try:\n",
    "        len_clean_text = len(a)\n",
    "        score = a.intersection(b)\n",
    "        percent_in_tweet = total/len_clean_text  \n",
    "    except:\n",
    "        percent_in_tweet = 0\n",
    "    return percent_in_tweet    "
   ]
  },
  {
   "cell_type": "code",
   "execution_count": 28,
   "metadata": {},
   "outputs": [
    {
     "name": "stdout",
     "output_type": "stream",
     "text": [
      "done in 3.348s.\n"
     ]
    }
   ],
   "source": [
    "t0 = time()\n",
    "tweets_all['perc_in_bot_topic'] = tweets_all.loc[:,'clean_text'].apply(lambda x: percent_tweet_in_bot_topics(x, tweets_bots_final))\n",
    "print(\"done in %0.3fs.\" % (time() - t0))"
   ]
  },
  {
   "cell_type": "markdown",
   "metadata": {},
   "source": [
    "Unfortunately, this metric returned 0 for every record. Because the individual tweets are so short, we suspect that comparing the individual tweet's tokens with the bot topics is not a good metric."
   ]
  },
  {
   "cell_type": "markdown",
   "metadata": {},
   "source": [
    "#### Jaccard score"
   ]
  },
  {
   "cell_type": "markdown",
   "metadata": {},
   "source": [
    "To compute the similarity between an individual user's top 10 topics with the bot topics, we computed a Jaccard Score. Recall that we calculated the top 10 bot topics, so in the next few cells we compute the top 10 topic models for each user. "
   ]
  },
  {
   "cell_type": "code",
   "execution_count": 35,
   "metadata": {
    "scrolled": true
   },
   "outputs": [
    {
     "name": "stdout",
     "output_type": "stream",
     "text": [
      "done in 12.506s.\n"
     ]
    }
   ],
   "source": [
    "t0 = time()\n",
    "tweets_grouped = tweets_all.groupby('user_id').agg(lambda x: x.tolist())\n",
    "tweets_grouped = tweets_grouped.reset_index()\n",
    "tweets_grouped['topics'] = tweets_grouped.loc[:,'clean_text'].apply(lambda x: get10topics(x)) \n",
    "print(\"done in %0.3fs.\" % (time() - t0))"
   ]
  },
  {
   "cell_type": "markdown",
   "metadata": {},
   "source": [
    "Next we computed the Jaccard score, which indicates how much the user and bot's topics overlap, then merged this data back in with the tweets data."
   ]
  },
  {
   "cell_type": "code",
   "execution_count": 36,
   "metadata": {},
   "outputs": [],
   "source": [
    "def jaccard(x,bots_topics):\n",
    "    #https://towardsdatascience.com/overview-of-text-similarity-metrics-3397c4601f50    \n",
    "    def get_jaccard_sim(str1, str2): \n",
    "        \n",
    "        a = set(str1.split()) \n",
    "        b = set(str2.split())\n",
    "        \n",
    "        c = a.intersection(b)\n",
    "        return float(len(c)) / (len(a) + len(b) - len(c))\n",
    "    total = 0\n",
    "    a=''\n",
    "    b=''\n",
    "    for a in x:\n",
    "        for b in bots_topics:\n",
    "            score = get_jaccard_sim(a,b)\n",
    "        total += score\n",
    "    return total/10    "
   ]
  },
  {
   "cell_type": "code",
   "execution_count": 41,
   "metadata": {},
   "outputs": [],
   "source": [
    "tweets_grouped['jaccard'] = tweets_grouped.loc[:,'topics'].apply(lambda x: jaccard(x, tweets_bots_final))\n",
    "tweets_grouped_final = tweets_grouped[['user_id','jaccard']]\n",
    "tweets_final = pd.merge(tweets_all, tweets_grouped_final, on='user_id')\n",
    "tweetchunk = np.array_split(tweets_final, 3)\n",
    "tweetchunk[0].to_csv('tweets_nlp_1_final.csv')\n",
    "tweetchunk[1].to_csv('tweets_nlp_2_final.csv')\n",
    "tweetchunk[2].to_csv('tweets_nlp_3_final.csv')"
   ]
  },
  {
   "cell_type": "code",
   "execution_count": 42,
   "metadata": {},
   "outputs": [],
   "source": []
  },
  {
   "cell_type": "markdown",
   "metadata": {},
   "source": [
    "### Feature Selection"
   ]
  },
  {
   "cell_type": "code",
   "execution_count": 5,
   "metadata": {},
   "outputs": [
    {
     "name": "stdout",
     "output_type": "stream",
     "text": [
      "retweet_count\n",
      "favorite_count\n",
      "num_hashtags\n",
      "num_urls\n",
      "num_mentions\n",
      "user_type\n",
      "sentiment_negative\n",
      "sentiment_neutral\n",
      "sentiment_positive\n",
      "token_count\n",
      "ant\n",
      "fear\n",
      "joy\n",
      "trust\n"
     ]
    }
   ],
   "source": [
    "#tweets1 = pd.read_csv('tweets_nlp_1_2.csv')\n",
    "#tweets2 = pd.read_csv('tweets_nlp_2_2.csv')\n",
    "#tweets3 = pd.read_csv('tweets_nlp_3_2.csv')\n",
    "#tweets_final = pd.concat([tweets1, tweets2, tweets3], sort=False)\n",
    "\n",
    "def variance_threshold_selector(data, threshold=0.5):\n",
    "    #https://stackoverflow.com/questions/39812885/retain-feature-names-after-scikit-feature-selection\n",
    "    selector = VarianceThreshold(threshold)\n",
    "    selector.fit(data)\n",
    "    return data[data.columns[selector.get_support(indices=True)]]\n",
    "\n",
    "tweets_final.replace([np.inf, -np.inf], np.nan, inplace=True)\n",
    "tweets_final.fillna(value=0, axis=1, inplace=True)\n",
    "\n",
    "tweets_all_var = tweets_final[['retweet_count', 'favorite_count', 'num_hashtags', 'num_urls', 'num_mentions',\\\n",
    "                                 'user_type', 'sentiment_negative', 'sentiment_neutral', 'sentiment_positive',\\\n",
    "                                 'ratio_pos', 'ratio_neg', 'ratio_neu', 'token_count','url_token_ratio', \\\n",
    "                                 'ant','disgust', 'fear', 'joy', 'sadness', 'surprise', 'trust', 'jaccard']]\n",
    "blah = variance_threshold_selector(tweets_all_var, threshold=(.95*.1)).columns\n",
    "for thing in blah:\n",
    "    print(thing)"
   ]
  },
  {
   "cell_type": "markdown",
   "metadata": {},
   "source": [
    "Let's analyze the ratios before we discard them. A scatter matrix plots indicates that a linear correlation exists between ratio_neu and ratio_neg. We will keep ratio_neg because it does not appear to be correlated."
   ]
  },
  {
   "cell_type": "code",
   "execution_count": 8,
   "metadata": {},
   "outputs": [
    {
     "name": "stdout",
     "output_type": "stream",
     "text": [
      "Scatter Matrix for Sentiment Ratio Values\n"
     ]
    },
    {
     "data": {
      "image/png": "[encoded data removed]",
      "text/plain": [
       "<Figure size 540x540 with 12 Axes>"
      ]
     },
     "metadata": {
      "needs_background": "light"
     },
     "output_type": "display_data"
    }
   ],
   "source": [
    "import seaborn as sns;\n",
    "tweets_ratios = tweets_all_var[['ratio_neu', 'ratio_neg', 'ratio_pos']]\n",
    "t_final_sample = resample(tweets_ratios, n_samples=5000, replace=False)\n",
    "g = sns.pairplot(t_final_sample)\n",
    "print('Scatter Matrix for Sentiment Ratio Values')"
   ]
  },
  {
   "cell_type": "markdown",
   "metadata": {},
   "source": [
    "### Resources\n",
    "\n",
    "https://www.youtube.com/watch?v=UQGEB3Q5-fQ https://medium.com/ml2vec/topic-modeling-is-an-unsupervised-learning-approach-to-clustering-documents-to-discover-topics-fdfbf30e27df\n",
    "http://hebb.mit.edu/people/seung/pape... http://www.cs.helsinki.fi/u/phoyer/pa... http://hebb.mit.edu/people/seung/pape...\n",
    "watch this later: https://www.youtube.com/watch?v=ZTxXGZwe2gw\n",
    "https://arxiv.org/pdf/1308.6297.pdf\n",
    "\n",
    "https://www.geeksforgeeks.org/twitter-sentiment-analysis-using-python/\n",
    "\n",
    "https://codereview.stackexchange.com/questions/181152/identify-and-extract-urls-from-text-corpus\n",
    "\n",
    "https://en.wikipedia.org/wiki/Naive_Bayes_classifier\n",
    "\n",
    "https://streamhacker.com/2010/05/10/text-classification-sentiment-analysis-naive-bayes-classifier/\n",
    "\n",
    "https://nlpforhackers.io/topic-modeling/\n",
    "\n",
    "https://towardsdatascience.com/topic-modeling-and-latent-dirichlet-allocation-in-python-9bf156893c24\n",
    "\n",
    "https://towardsdatascience.com/topic-modelling-in-python-with-nltk-and-gensim-4ef03213cd21\n",
    "\n",
    "https://towardsdatascience.com/sentiment-analysis-with-python-part-1-5ce197074184\n",
    "\n",
    "http://www.nltk.org/book/ch06.html\n",
    "\n",
    "https://medium.freecodecamp.org/basic-data-analysis-on-twitter-with-python-251c2a85062e \n"
   ]
  }
 ],
 "metadata": {
  "kernelspec": {
   "display_name": "Python 3",
   "language": "python",
   "name": "python3"
  },
  "language_info": {
   "codemirror_mode": {
    "name": "ipython",
    "version": 3
   },
   "file_extension": ".py",
   "mimetype": "text/x-python",
   "name": "python",
   "nbconvert_exporter": "python",
   "pygments_lexer": "ipython3",
   "version": "3.6.6"
  }
 },
 "nbformat": 4,
 "nbformat_minor": 2
}
